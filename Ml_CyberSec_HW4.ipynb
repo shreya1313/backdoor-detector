{
  "nbformat": 4,
  "nbformat_minor": 0,
  "metadata": {
    "colab": {
      "provenance": [],
      "gpuType": "T4"
    },
    "kernelspec": {
      "name": "python3",
      "display_name": "Python 3"
    },
    "language_info": {
      "name": "python"
    },
    "accelerator": "GPU"
  },
  "cells": [
    {
      "cell_type": "code",
      "execution_count": 1,
      "metadata": {
        "id": "FgHJspO5Af_z"
      },
      "outputs": [],
      "source": [
        "import matplotlib.pyplot as plt\n",
        "import pandas as pd\n",
        "import numpy as np\n",
        "import seaborn as sns\n",
        "import keras\n",
        "import sys\n",
        "import h5py\n",
        "import warnings\n",
        "from tqdm import tqdm"
      ]
    },
    {
      "cell_type": "markdown",
      "source": [
        "## OG BadNet"
      ],
      "metadata": {
        "id": "7Xi9Z9TTArUu"
      }
    },
    {
      "cell_type": "code",
      "source": [
        "from google.colab import drive\n",
        "drive.mount('/content/drive')"
      ],
      "metadata": {
        "colab": {
          "base_uri": "https://localhost:8080/"
        },
        "id": "CYWhNc3VA6AS",
        "outputId": "b58df9ca-39fd-4ddf-c362-2da94ccdfcbe"
      },
      "execution_count": 2,
      "outputs": [
        {
          "output_type": "stream",
          "name": "stdout",
          "text": [
            "Drive already mounted at /content/drive; to attempt to forcibly remount, call drive.mount(\"/content/drive\", force_remount=True).\n"
          ]
        }
      ]
    },
    {
      "cell_type": "code",
      "source": [
        "# clean_data = '/content/drive/MyDrive/Sem 3/MLinCyberSec/Labs/Lab4/data/cl/clean_validation_data.h5'\n",
        "# bad_data = '/content/drive/MyDrive/Sem 3/MLinCyberSec/Labs/Lab4/data/bd/sunglasses_poisoned_data.h5'\n",
        "# model_name = '/content/drive/MyDrive/Sem 3/MLinCyberSec/Labs/Lab4/model/sunglasses_bd_net.h5'\n",
        "\n",
        "valid_clean_data = '/content/drive/MyDrive/Sem 3/MLinCyberSec/Labs/Lab4/data/cl/valid.h5'\n",
        "test_clean_data = '/content/drive/MyDrive/Sem 3/MLinCyberSec/Labs/Lab4/data/cl/test.h5'\n",
        "valid_bad_data = '/content/drive/MyDrive/Sem 3/MLinCyberSec/Labs/Lab4/data/bd/bd_valid.h5'\n",
        "test_bad_data = '/content/drive/MyDrive/Sem 3/MLinCyberSec/Labs/Lab4/data/bd/bd_test.h5'\n",
        "model_name = '/content/drive/MyDrive/Sem 3/MLinCyberSec/Labs/Lab4/model/bd_net.h5'"
      ],
      "metadata": {
        "id": "D6nN9bmBAo6Q"
      },
      "execution_count": 3,
      "outputs": []
    },
    {
      "cell_type": "code",
      "source": [],
      "metadata": {
        "id": "wAEflpCD7lR0"
      },
      "execution_count": 3,
      "outputs": []
    },
    {
      "cell_type": "code",
      "source": [],
      "metadata": {
        "id": "Sz4x9gpFJFAq"
      },
      "execution_count": 3,
      "outputs": []
    },
    {
      "cell_type": "markdown",
      "source": [
        "## Test the given backdoored model -- code from eval.py"
      ],
      "metadata": {
        "id": "e4ANNCc9JFYO"
      }
    },
    {
      "cell_type": "code",
      "source": [
        "def load_data(path):\n",
        "    data = h5py.File(path, 'r')\n",
        "    x_data = np.array(data['data'])\n",
        "    y_data = np.array(data['label'])\n",
        "    x_data = x_data.transpose((0,2,3,1))\n",
        "\n",
        "    return x_data, y_data"
      ],
      "metadata": {
        "id": "cyl--_iPHU_K"
      },
      "execution_count": 4,
      "outputs": []
    },
    {
      "cell_type": "markdown",
      "source": [
        "### Check input images -- 5 sample images"
      ],
      "metadata": {
        "id": "cwsSGG847zx1"
      }
    },
    {
      "cell_type": "code",
      "source": [
        "x_data, y_data = load_data(valid_clean_data)\n",
        "\n",
        "plt.figure(figsize=(15, 3))  # Adjust the figure size as needed\n",
        "\n",
        "for i in range(5):\n",
        "    plt.subplot(1, 5, i + 1)\n",
        "    plt.imshow(x_data[np.random.randint(x_data.shape[0], size=1)][0]/255)\n",
        "    plt.title(f'Label: {y_data[i]}')\n",
        "    plt.axis('off')\n",
        "\n",
        "plt.show()"
      ],
      "metadata": {
        "colab": {
          "base_uri": "https://localhost:8080/",
          "height": 290
        },
        "id": "VuU26pkt7yvn",
        "outputId": "312af162-165e-4dc0-a278-169f80ff3b95"
      },
      "execution_count": 5,
      "outputs": [
        {
          "output_type": "display_data",
          "data": {
            "text/plain": [
              "<Figure size 1500x300 with 5 Axes>"
            ],
            "image/png": "[encoded data removed]"
          },
          "metadata": {}
        }
      ]
    },
    {
      "cell_type": "markdown",
      "source": [
        "### check poisoned images -- 5 sample images"
      ],
      "metadata": {
        "id": "TuYlis-DAx3U"
      }
    },
    {
      "cell_type": "code",
      "source": [
        "x_data, y_data = load_data(valid_bad_data)\n",
        "\n",
        "plt.figure(figsize=(15, 3))  # Adjust the figure size as needed\n",
        "\n",
        "for i in range(5):\n",
        "    plt.subplot(1, 5, i + 1)\n",
        "    plt.imshow(x_data[np.random.randint(x_data.shape[0], size=1)][0]/255)\n",
        "    plt.title(f'Label: {y_data[i]}')\n",
        "    plt.axis('off')\n",
        "\n",
        "plt.show()"
      ],
      "metadata": {
        "colab": {
          "base_uri": "https://localhost:8080/",
          "height": 290
        },
        "id": "Xc96vkt0AxSa",
        "outputId": "b6c484db-e58a-474e-ff22-ed3f147dc8bc"
      },
      "execution_count": 6,
      "outputs": [
        {
          "output_type": "display_data",
          "data": {
            "text/plain": [
              "<Figure size 1500x300 with 5 Axes>"
            ],
            "image/png": "[encoded data removed]"
          },
          "metadata": {}
        }
      ]
    },
    {
      "cell_type": "markdown",
      "source": [
        "## Verify performance of the given Badnet ~ Clean Classification accuracy: 98.64%"
      ],
      "metadata": {
        "id": "eCdAsPqgCd2Y"
      }
    },
    {
      "cell_type": "code",
      "source": [
        "def main():\n",
        "  cl_x_test, cl_y_test = load_data(valid_clean_data)\n",
        "  bd_x_test, bd_y_test = load_data(valid_bad_data)\n",
        "\n",
        "  bd_model = keras.models.load_model(model_name)\n",
        "\n",
        "  cl_label_p = np.argmax(bd_model.predict(cl_x_test), axis=1)\n",
        "  clean_accuracy = np.mean(np.equal(cl_label_p, cl_y_test))*100\n",
        "  print('Clean Classification accuracy:', clean_accuracy)\n",
        "\n",
        "  bd_label_p = np.argmax(bd_model.predict(bd_x_test), axis=1)\n",
        "  asr = np.mean(np.equal(bd_label_p, bd_y_test))*100\n",
        "  print('Attack Success Rate:', asr)"
      ],
      "metadata": {
        "id": "HJ0YZA7HHtwr"
      },
      "execution_count": 7,
      "outputs": []
    },
    {
      "cell_type": "code",
      "source": [
        "main()"
      ],
      "metadata": {
        "id": "FK_wOGNBIMUi",
        "colab": {
          "base_uri": "https://localhost:8080/"
        },
        "outputId": "e55bd49c-9adc-461c-809d-55e3f2b08486"
      },
      "execution_count": 8,
      "outputs": [
        {
          "output_type": "stream",
          "name": "stdout",
          "text": [
            "361/361 [==============================] - 8s 3ms/step\n",
            "Clean Classification accuracy: 98.64899974019225\n",
            "361/361 [==============================] - 1s 3ms/step\n",
            "Attack Success Rate: 100.0\n"
          ]
        }
      ]
    },
    {
      "cell_type": "markdown",
      "source": [
        "### Verified!!"
      ],
      "metadata": {
        "id": "ZNe-AW62DMmb"
      }
    },
    {
      "cell_type": "markdown",
      "source": [
        "## Start Pruning defense"
      ],
      "metadata": {
        "id": "cCbtdkySJYsG"
      }
    },
    {
      "cell_type": "markdown",
      "source": [
        "### check model architecture to see which layer to prune"
      ],
      "metadata": {
        "id": "CZgUkXFnJe45"
      }
    },
    {
      "cell_type": "code",
      "source": [
        "model = keras.models.load_model(model_name)"
      ],
      "metadata": {
        "id": "muf4oJVtJiPG"
      },
      "execution_count": 5,
      "outputs": []
    },
    {
      "cell_type": "code",
      "source": [
        "print(model.summary())"
      ],
      "metadata": {
        "colab": {
          "base_uri": "https://localhost:8080/"
        },
        "id": "Aj1TgTO2Npih",
        "outputId": "acd3e2b1-1c17-4faf-f77f-6696efece880"
      },
      "execution_count": 10,
      "outputs": [
        {
          "output_type": "stream",
          "name": "stdout",
          "text": [
            "Model: \"model_1\"\n",
            "__________________________________________________________________________________________________\n",
            " Layer (type)                Output Shape                 Param #   Connected to                  \n",
            "==================================================================================================\n",
            " input (InputLayer)          [(None, 55, 47, 3)]          0         []                            \n",
            "                                                                                                  \n",
            " conv_1 (Conv2D)             (None, 52, 44, 20)           980       ['input[0][0]']               \n",
            "                                                                                                  \n",
            " pool_1 (MaxPooling2D)       (None, 26, 22, 20)           0         ['conv_1[0][0]']              \n",
            "                                                                                                  \n",
            " conv_2 (Conv2D)             (None, 24, 20, 40)           7240      ['pool_1[0][0]']              \n",
            "                                                                                                  \n",
            " pool_2 (MaxPooling2D)       (None, 12, 10, 40)           0         ['conv_2[0][0]']              \n",
            "                                                                                                  \n",
            " conv_3 (Conv2D)             (None, 10, 8, 60)            21660     ['pool_2[0][0]']              \n",
            "                                                                                                  \n",
            " pool_3 (MaxPooling2D)       (None, 5, 4, 60)             0         ['conv_3[0][0]']              \n",
            "                                                                                                  \n",
            " conv_4 (Conv2D)             (None, 4, 3, 80)             19280     ['pool_3[0][0]']              \n",
            "                                                                                                  \n",
            " flatten_1 (Flatten)         (None, 1200)                 0         ['pool_3[0][0]']              \n",
            "                                                                                                  \n",
            " flatten_2 (Flatten)         (None, 960)                  0         ['conv_4[0][0]']              \n",
            "                                                                                                  \n",
            " fc_1 (Dense)                (None, 160)                  192160    ['flatten_1[0][0]']           \n",
            "                                                                                                  \n",
            " fc_2 (Dense)                (None, 160)                  153760    ['flatten_2[0][0]']           \n",
            "                                                                                                  \n",
            " add_1 (Add)                 (None, 160)                  0         ['fc_1[0][0]',                \n",
            "                                                                     'fc_2[0][0]']                \n",
            "                                                                                                  \n",
            " activation_1 (Activation)   (None, 160)                  0         ['add_1[0][0]']               \n",
            "                                                                                                  \n",
            " output (Dense)              (None, 1283)                 206563    ['activation_1[0][0]']        \n",
            "                                                                                                  \n",
            "==================================================================================================\n",
            "Total params: 601643 (2.30 MB)\n",
            "Trainable params: 601643 (2.30 MB)\n",
            "Non-trainable params: 0 (0.00 Byte)\n",
            "__________________________________________________________________________________________________\n",
            "None\n"
          ]
        }
      ]
    },
    {
      "cell_type": "code",
      "source": [
        "clean_x, clean_y = load_data(valid_clean_data)\n",
        "bad_x, bad_y = load_data(valid_bad_data)"
      ],
      "metadata": {
        "id": "NBf-4H5jVQaL"
      },
      "execution_count": 11,
      "outputs": []
    },
    {
      "cell_type": "code",
      "source": [
        "model_copy = keras.models.clone_model(model)\n",
        "model_copy.set_weights(model.get_weights())\n",
        "\n",
        "# Get the output of the 'pool_3' layer from the model\n",
        "last_pool_output = model_copy.get_layer('pool_3').output\n",
        "\n",
        "# model creation with i/p as the given model and produces output of the pooling layer\n",
        "temp_model = keras.models.Model(inputs=model_copy.input,outputs=last_pool_output)\n",
        "\n",
        "# predict output of temp_model on clean_x data\n",
        "temp_pred = temp_model.predict(clean_x)\n",
        "\n",
        "# activations calculated along all dimensions\n",
        "avg_act = np.mean(temp_pred, axis=(0,1,2))\n",
        "\n",
        "# sort the above indices in descending order\n",
        "sorted_act_ind = np.argsort(avg_act)"
      ],
      "metadata": {
        "colab": {
          "base_uri": "https://localhost:8080/"
        },
        "id": "62t9HSLcZZXD",
        "outputId": "bcbc0198-44d0-4f8f-caa1-a043b441263d"
      },
      "execution_count": 12,
      "outputs": [
        {
          "output_type": "stream",
          "name": "stdout",
          "text": [
            "361/361 [==============================] - 1s 2ms/step\n"
          ]
        }
      ]
    },
    {
      "cell_type": "code",
      "source": [
        "sorted_act_ind"
      ],
      "metadata": {
        "colab": {
          "base_uri": "https://localhost:8080/"
        },
        "id": "Wi3WKRJUV3l5",
        "outputId": "f28f38d8-fbb0-4235-f543-21cd1c523aec"
      },
      "execution_count": 13,
      "outputs": [
        {
          "output_type": "execute_result",
          "data": {
            "text/plain": [
              "array([ 0, 26, 27, 30, 31, 33, 34, 36, 37, 38, 25, 39, 41, 44, 45, 47, 48,\n",
              "       49, 50, 53, 55, 40, 24, 59,  9,  2, 12, 13, 17, 14, 15, 23,  6, 51,\n",
              "       32, 22, 21, 20, 19, 43, 58,  3, 42,  1, 29, 16, 56, 46,  5,  8, 11,\n",
              "       54, 10, 28, 35, 18,  4,  7, 52, 57])"
            ]
          },
          "metadata": {},
          "execution_count": 13
        }
      ]
    },
    {
      "cell_type": "markdown",
      "source": [
        "### we get 60 channels in sorted_act_ind sorted in descending order of their avg activations"
      ],
      "metadata": {
        "id": "JvxKcnShgxMV"
      }
    },
    {
      "cell_type": "code",
      "source": [
        "temp_pred.shape"
      ],
      "metadata": {
        "colab": {
          "base_uri": "https://localhost:8080/"
        },
        "id": "UcIBfNYVV-bb",
        "outputId": "8d023fc0-cf88-4548-dfa7-9bd97aa51fc7"
      },
      "execution_count": 14,
      "outputs": [
        {
          "output_type": "execute_result",
          "data": {
            "text/plain": [
              "(11547, 5, 4, 60)"
            ]
          },
          "metadata": {},
          "execution_count": 14
        }
      ]
    },
    {
      "cell_type": "code",
      "source": [
        "# get original model's clean accuracy to compare\n",
        "cl_label_p = np.argmax(model.predict(clean_x), axis=1)\n",
        "og_clean_accuracy = np.mean(np.equal(cl_label_p, clean_y))*100\n",
        "print('Clean Classification accuracy:', og_clean_accuracy)\n"
      ],
      "metadata": {
        "colab": {
          "base_uri": "https://localhost:8080/"
        },
        "id": "Q3BOSkgJhDAO",
        "outputId": "fb1eb245-c6e0-4fbc-9834-cbf12b2fddec"
      },
      "execution_count": 15,
      "outputs": [
        {
          "output_type": "stream",
          "name": "stdout",
          "text": [
            "361/361 [==============================] - 1s 4ms/step\n",
            "Clean Classification accuracy: 98.64899974019225\n"
          ]
        }
      ]
    },
    {
      "cell_type": "code",
      "source": [
        "pruned_clean_acc = []\n",
        "attack_success_rate = []\n",
        "channel_index = 0"
      ],
      "metadata": {
        "id": "yQC89CamaO_7"
      },
      "execution_count": 16,
      "outputs": []
    },
    {
      "cell_type": "code",
      "source": [
        "# get initial weights\n",
        "weights = model_copy.layers[5].get_weights()"
      ],
      "metadata": {
        "id": "8ggJmCkzaTPv"
      },
      "execution_count": 17,
      "outputs": []
    },
    {
      "cell_type": "markdown",
      "source": [
        "### Prune until accuracy dropped >= 2%"
      ],
      "metadata": {
        "id": "XY77VSKsm6ce"
      }
    },
    {
      "cell_type": "code",
      "source": [
        "\n",
        "while channel_index < len(sorted_act_ind):\n",
        "\n",
        "  weights[0][:,:,:,sorted_act_ind[channel_index]] = 0\n",
        "  weights[1][sorted_act_ind[channel_index]] = 0\n",
        "\n",
        "  model_copy.layers[5].set_weights(weights)\n",
        "\n",
        "  cl_label_p = np.argmax(model_copy.predict(clean_x), axis=1)\n",
        "  clean_accuracy = np.mean(np.equal(cl_label_p, clean_y))*100\n",
        "\n",
        "  print(\"Accuracy after dropping channel index: \", sorted_act_ind[channel_index], \" is: \", clean_accuracy)\n",
        "\n",
        "  pruned_clean_acc.append(clean_accuracy)\n",
        "\n",
        "\n",
        "\n",
        "  if (og_clean_accuracy-clean_accuracy >= 2):\n",
        "    print(\"The accuracy is dropped at least 2%, the model is saved!\")\n",
        "    model_copy.save('/content/drive/MyDrive/Sem 3/MLinCyberSec/Labs/Lab4/model/model_2.h5')\n",
        "\n",
        "    bd_label_p = np.argmax(model_copy.predict(bad_x), axis=1)\n",
        "    asr = np.mean(np.equal(bd_label_p, bad_y))*100\n",
        "    attack_success_rate.append(asr)\n",
        "\n",
        "    print()\n",
        "    print(\"The clean accuracy is: \",clean_accuracy)\n",
        "    print(\"The attack success rate is: \",asr)\n",
        "    print(\"The pruned channel index is: \",sorted_act_ind[channel_index])\n",
        "    break\n",
        "  channel_index += 1\n",
        "\n",
        "  # keras.backend.clear_session()"
      ],
      "metadata": {
        "colab": {
          "base_uri": "https://localhost:8080/"
        },
        "id": "8NrMLfwEaUfS",
        "outputId": "27ffbad0-bd91-4d41-e50f-6919ac6a39d2"
      },
      "execution_count": 18,
      "outputs": [
        {
          "output_type": "stream",
          "name": "stdout",
          "text": [
            "361/361 [==============================] - 1s 2ms/step\n",
            "Accuracy after dropping channel index:  0  is:  98.64899974019225\n",
            "361/361 [==============================] - 1s 2ms/step\n",
            "Accuracy after dropping channel index:  26  is:  98.64899974019225\n",
            "361/361 [==============================] - 1s 3ms/step\n",
            "Accuracy after dropping channel index:  27  is:  98.64899974019225\n",
            "361/361 [==============================] - 1s 3ms/step\n",
            "Accuracy after dropping channel index:  30  is:  98.64899974019225\n",
            "361/361 [==============================] - 1s 2ms/step\n",
            "Accuracy after dropping channel index:  31  is:  98.64899974019225\n",
            "361/361 [==============================] - 1s 2ms/step\n",
            "Accuracy after dropping channel index:  33  is:  98.64899974019225\n",
            "361/361 [==============================] - 1s 2ms/step\n",
            "Accuracy after dropping channel index:  34  is:  98.64899974019225\n",
            "361/361 [==============================] - 1s 3ms/step\n",
            "Accuracy after dropping channel index:  36  is:  98.64899974019225\n",
            "361/361 [==============================] - 1s 3ms/step\n",
            "Accuracy after dropping channel index:  37  is:  98.64899974019225\n",
            "361/361 [==============================] - 1s 2ms/step\n",
            "Accuracy after dropping channel index:  38  is:  98.64899974019225\n",
            "361/361 [==============================] - 1s 2ms/step\n",
            "Accuracy after dropping channel index:  25  is:  98.64899974019225\n",
            "361/361 [==============================] - 1s 2ms/step\n",
            "Accuracy after dropping channel index:  39  is:  98.64899974019225\n",
            "361/361 [==============================] - 1s 2ms/step\n",
            "Accuracy after dropping channel index:  41  is:  98.64899974019225\n",
            "361/361 [==============================] - 1s 3ms/step\n",
            "Accuracy after dropping channel index:  44  is:  98.64899974019225\n",
            "361/361 [==============================] - 1s 2ms/step\n",
            "Accuracy after dropping channel index:  45  is:  98.64899974019225\n",
            "361/361 [==============================] - 1s 2ms/step\n",
            "Accuracy after dropping channel index:  47  is:  98.64899974019225\n",
            "361/361 [==============================] - 1s 2ms/step\n",
            "Accuracy after dropping channel index:  48  is:  98.64899974019225\n",
            "361/361 [==============================] - 1s 2ms/step\n",
            "Accuracy after dropping channel index:  49  is:  98.64899974019225\n",
            "361/361 [==============================] - 1s 2ms/step\n",
            "Accuracy after dropping channel index:  50  is:  98.64899974019225\n",
            "361/361 [==============================] - 1s 3ms/step\n",
            "Accuracy after dropping channel index:  53  is:  98.64899974019225\n",
            "361/361 [==============================] - 1s 2ms/step\n",
            "Accuracy after dropping channel index:  55  is:  98.64899974019225\n",
            "361/361 [==============================] - 1s 2ms/step\n",
            "Accuracy after dropping channel index:  40  is:  98.64899974019225\n",
            "361/361 [==============================] - 1s 2ms/step\n",
            "Accuracy after dropping channel index:  24  is:  98.64899974019225\n",
            "361/361 [==============================] - 1s 2ms/step\n",
            "Accuracy after dropping channel index:  59  is:  98.64899974019225\n",
            "361/361 [==============================] - 1s 3ms/step\n",
            "Accuracy after dropping channel index:  9  is:  98.64899974019225\n",
            "361/361 [==============================] - 1s 3ms/step\n",
            "Accuracy after dropping channel index:  2  is:  98.64899974019225\n",
            "361/361 [==============================] - 1s 2ms/step\n",
            "Accuracy after dropping channel index:  12  is:  98.64899974019225\n",
            "361/361 [==============================] - 1s 2ms/step\n",
            "Accuracy after dropping channel index:  13  is:  98.64899974019225\n",
            "361/361 [==============================] - 1s 2ms/step\n",
            "Accuracy after dropping channel index:  17  is:  98.64899974019225\n",
            "361/361 [==============================] - 1s 2ms/step\n",
            "Accuracy after dropping channel index:  14  is:  98.64899974019225\n",
            "361/361 [==============================] - 1s 3ms/step\n",
            "Accuracy after dropping channel index:  15  is:  98.64899974019225\n",
            "361/361 [==============================] - 1s 2ms/step\n",
            "Accuracy after dropping channel index:  23  is:  98.64899974019225\n",
            "361/361 [==============================] - 1s 2ms/step\n",
            "Accuracy after dropping channel index:  6  is:  98.64899974019225\n",
            "361/361 [==============================] - 1s 2ms/step\n",
            "Accuracy after dropping channel index:  51  is:  98.64033948211657\n",
            "361/361 [==============================] - 1s 2ms/step\n",
            "Accuracy after dropping channel index:  32  is:  98.64033948211657\n",
            "361/361 [==============================] - 1s 2ms/step\n",
            "Accuracy after dropping channel index:  22  is:  98.63167922404088\n",
            "361/361 [==============================] - 1s 3ms/step\n",
            "Accuracy after dropping channel index:  21  is:  98.65765999826795\n",
            "361/361 [==============================] - 1s 3ms/step\n",
            "Accuracy after dropping channel index:  20  is:  98.64899974019225\n",
            "361/361 [==============================] - 1s 2ms/step\n",
            "Accuracy after dropping channel index:  19  is:  98.6056984498138\n",
            "361/361 [==============================] - 1s 2ms/step\n",
            "Accuracy after dropping channel index:  43  is:  98.57105741751104\n",
            "361/361 [==============================] - 1s 2ms/step\n",
            "Accuracy after dropping channel index:  58  is:  98.53641638520828\n",
            "361/361 [==============================] - 1s 2ms/step\n",
            "Accuracy after dropping channel index:  3  is:  98.19000606218066\n",
            "361/361 [==============================] - 1s 3ms/step\n",
            "Accuracy after dropping channel index:  42  is:  97.65307006148784\n",
            "361/361 [==============================] - 1s 3ms/step\n",
            "Accuracy after dropping channel index:  1  is:  97.50584567420108\n",
            "361/361 [==============================] - 1s 3ms/step\n"
          ]
        },
        {
          "output_type": "stream",
          "name": "stderr",
          "text": [
            "/usr/local/lib/python3.10/dist-packages/keras/src/engine/training.py:3079: UserWarning: You are saving your model as an HDF5 file via `model.save()`. This file format is considered legacy. We recommend using instead the native Keras format, e.g. `model.save('my_model.keras')`.\n",
            "  saving_api.save_model(\n",
            "WARNING:tensorflow:Compiled the loaded model, but the compiled metrics have yet to be built. `model.compile_metrics` will be empty until you train or evaluate the model.\n"
          ]
        },
        {
          "output_type": "stream",
          "name": "stdout",
          "text": [
            "Accuracy after dropping channel index:  29  is:  95.75647354291158\n",
            "The accuracy is dropped at least 2%, the model is saved!\n",
            "361/361 [==============================] - 1s 2ms/step\n",
            "\n",
            "The clean accuracy is:  95.75647354291158\n",
            "The attack success rate is:  100.0\n",
            "The pruned channel index is:  29\n"
          ]
        }
      ]
    },
    {
      "cell_type": "markdown",
      "source": [
        "### Prune until accuracy dropped >= 4%"
      ],
      "metadata": {
        "id": "HCxVu_sSnNhU"
      }
    },
    {
      "cell_type": "code",
      "source": [
        "while channel_index < len(sorted_act_ind):\n",
        "\n",
        "  weights[0][:,:,:,sorted_act_ind[channel_index]] = 0\n",
        "  weights[1][sorted_act_ind[channel_index]] = 0\n",
        "\n",
        "  model_copy.layers[5].set_weights(weights)\n",
        "\n",
        "  cl_label_p = np.argmax(model_copy.predict(clean_x), axis=1)\n",
        "  clean_accuracy = np.mean(np.equal(cl_label_p, clean_y))*100\n",
        "  print(\"Accuracy after dropping channel index: \", sorted_act_ind[channel_index], \" is: \", clean_accuracy)\n",
        "\n",
        "  pruned_clean_acc.append(clean_accuracy)\n",
        "\n",
        "  if (og_clean_accuracy-clean_accuracy >= 4):\n",
        "    print(\"The accuracy is dropped at least 4%, the model is saved!\")\n",
        "    model_copy.save('/content/drive/MyDrive/Sem 3/MLinCyberSec/Labs/Lab4/model/model_4.h5')\n",
        "\n",
        "    # pruned_clean_acc.append(clean_accuracy)\n",
        "\n",
        "    bd_label_p = np.argmax(model_copy.predict(bad_x), axis=1)\n",
        "    asr = np.mean(np.equal(bd_label_p, bad_y))*100\n",
        "    attack_success_rate.append(asr)\n",
        "    print()\n",
        "    print(\"The clean accuracy is: \",clean_accuracy)\n",
        "    print(\"The attack success rate is: \",asr)\n",
        "    print(\"The pruned channel index is: \",sorted_act_ind[channel_index])\n",
        "    break\n",
        "  channel_index += 1\n",
        "\n",
        "\n"
      ],
      "metadata": {
        "colab": {
          "base_uri": "https://localhost:8080/"
        },
        "id": "qQSuOLpdmtIz",
        "outputId": "f1aa2522-0aa9-4662-9d57-a33db10bf5a3"
      },
      "execution_count": 19,
      "outputs": [
        {
          "output_type": "stream",
          "name": "stdout",
          "text": [
            "361/361 [==============================] - 2s 4ms/step\n",
            "Accuracy after dropping channel index:  29  is:  95.75647354291158\n",
            "361/361 [==============================] - 1s 2ms/step\n",
            "Accuracy after dropping channel index:  16  is:  95.20221702606739\n",
            "361/361 [==============================] - 1s 2ms/step\n",
            "Accuracy after dropping channel index:  56  is:  94.7172425738287\n",
            "361/361 [==============================] - 1s 3ms/step\n"
          ]
        },
        {
          "output_type": "stream",
          "name": "stderr",
          "text": [
            "WARNING:tensorflow:Compiled the loaded model, but the compiled metrics have yet to be built. `model.compile_metrics` will be empty until you train or evaluate the model.\n"
          ]
        },
        {
          "output_type": "stream",
          "name": "stdout",
          "text": [
            "Accuracy after dropping channel index:  46  is:  92.09318437689443\n",
            "The accuracy is dropped at least 4%, the model is saved!\n",
            "361/361 [==============================] - 1s 3ms/step\n",
            "\n",
            "The clean accuracy is:  92.09318437689443\n",
            "The attack success rate is:  99.9913397419243\n",
            "The pruned channel index is:  46\n"
          ]
        }
      ]
    },
    {
      "cell_type": "markdown",
      "source": [
        "### Prune until accuracy dropped >= 10%"
      ],
      "metadata": {
        "id": "PPsEOBmVoGsN"
      }
    },
    {
      "cell_type": "code",
      "source": [
        "while channel_index < len(sorted_act_ind):\n",
        "\n",
        "  weights[0][:,:,:,sorted_act_ind[channel_index]] = 0\n",
        "  weights[1][sorted_act_ind[channel_index]] = 0\n",
        "\n",
        "  model_copy.layers[5].set_weights(weights)\n",
        "\n",
        "  cl_label_p = np.argmax(model_copy.predict(clean_x), axis=1)\n",
        "  clean_accuracy = np.mean(np.equal(cl_label_p, clean_y))*100\n",
        "  print(\"Accuracy after dropping channel index: \", sorted_act_ind[channel_index], \" is: \", clean_accuracy)\n",
        "\n",
        "  pruned_clean_acc.append(clean_accuracy)\n",
        "\n",
        "  if (og_clean_accuracy-clean_accuracy >= 10):\n",
        "    print(\"The accuracy is dropped at least 10%, the model is saved!\")\n",
        "    model_copy.save('/content/drive/MyDrive/Sem 3/MLinCyberSec/Labs/Lab4/model/model_10.h5')\n",
        "\n",
        "    bd_label_p = np.argmax(model_copy.predict(bad_x), axis=1)\n",
        "    asr = np.mean(np.equal(bd_label_p, bad_y))*100\n",
        "    attack_success_rate.append(asr)\n",
        "    print()\n",
        "    print(\"The clean accuracy is: \",clean_accuracy)\n",
        "    print(\"The attack success rate is: \",asr)\n",
        "    print(\"The pruned channel index is: \",sorted_act_ind[channel_index])\n",
        "    break\n",
        "  channel_index += 1"
      ],
      "metadata": {
        "id": "R-TUOaSAhDi2",
        "colab": {
          "base_uri": "https://localhost:8080/"
        },
        "outputId": "c187bbb2-3664-43f0-c6d8-34ca5de1d22a"
      },
      "execution_count": 20,
      "outputs": [
        {
          "output_type": "stream",
          "name": "stdout",
          "text": [
            "361/361 [==============================] - 1s 3ms/step\n",
            "Accuracy after dropping channel index:  46  is:  92.09318437689443\n",
            "361/361 [==============================] - 1s 2ms/step\n",
            "Accuracy after dropping channel index:  5  is:  91.49562656967177\n",
            "361/361 [==============================] - 1s 2ms/step\n",
            "Accuracy after dropping channel index:  8  is:  91.01931237550879\n",
            "361/361 [==============================] - 1s 2ms/step\n",
            "Accuracy after dropping channel index:  11  is:  89.17467740538669\n",
            "361/361 [==============================] - 1s 3ms/step\n"
          ]
        },
        {
          "output_type": "stream",
          "name": "stderr",
          "text": [
            "WARNING:tensorflow:Compiled the loaded model, but the compiled metrics have yet to be built. `model.compile_metrics` will be empty until you train or evaluate the model.\n"
          ]
        },
        {
          "output_type": "stream",
          "name": "stdout",
          "text": [
            "Accuracy after dropping channel index:  54  is:  84.43751623798389\n",
            "The accuracy is dropped at least 10%, the model is saved!\n",
            "361/361 [==============================] - 1s 3ms/step\n",
            "\n",
            "The clean accuracy is:  84.43751623798389\n",
            "The attack success rate is:  77.015675067117\n",
            "The pruned channel index is:  54\n"
          ]
        }
      ]
    },
    {
      "cell_type": "code",
      "source": [
        "keras.backend.clear_session()"
      ],
      "metadata": {
        "id": "cmJXPbVG0wuD"
      },
      "execution_count": 21,
      "outputs": []
    },
    {
      "cell_type": "markdown",
      "source": [
        "## Remaining channel pruning"
      ],
      "metadata": {
        "id": "qyQu8_mJ0xim"
      }
    },
    {
      "cell_type": "code",
      "source": [
        "while channel_index < len(sorted_act_ind)-2:\n",
        "\n",
        "  weights[0][:,:,:,sorted_act_ind[channel_index]] = 0\n",
        "  weights[1][sorted_act_ind[channel_index]] = 0\n",
        "\n",
        "  model_copy.layers[5].set_weights(weights)\n",
        "\n",
        "  cl_label_p = np.argmax(model_copy.predict(clean_x), axis=1)\n",
        "  clean_accuracy = np.mean(np.equal(cl_label_p, clean_y))*100\n",
        "  print(\"Accuracy after dropping channel index: \", sorted_act_ind[channel_index], \" is: \", clean_accuracy)\n",
        "\n",
        "  pruned_clean_acc.append(clean_accuracy)\n",
        "\n",
        "  if channel_index==57:\n",
        "    bd_label_p = np.argmax(model_copy.predict(bad_x), axis=1)\n",
        "    asr = np.mean(np.equal(bd_label_p, bad_y))*100\n",
        "    attack_success_rate.append(asr)\n",
        "    print()\n",
        "    print(\"The clean accuracy is: \",clean_accuracy)\n",
        "    print(\"The attack success rate is: \",asr)\n",
        "    print(\"The pruned channel index is: \",sorted_act_ind[channel_index])\n",
        "  channel_index += 1\n",
        "\n"
      ],
      "metadata": {
        "colab": {
          "base_uri": "https://localhost:8080/"
        },
        "id": "1U-7DL9d0tqB",
        "outputId": "070aee6b-414e-4529-da25-8f5cf4c6cbbf"
      },
      "execution_count": 21,
      "outputs": [
        {
          "output_type": "stream",
          "name": "stdout",
          "text": [
            "361/361 [==============================] - 1s 3ms/step\n",
            "Accuracy after dropping channel index:  54  is:  84.43751623798389\n",
            "361/361 [==============================] - 1s 2ms/step\n",
            "Accuracy after dropping channel index:  10  is:  76.48739932449988\n",
            "361/361 [==============================] - 1s 2ms/step\n",
            "Accuracy after dropping channel index:  28  is:  54.8627349095003\n",
            "361/361 [==============================] - 1s 3ms/step\n",
            "Accuracy after dropping channel index:  35  is:  27.08928726076037\n",
            "361/361 [==============================] - 1s 2ms/step\n",
            "Accuracy after dropping channel index:  18  is:  13.87373343725643\n",
            "361/361 [==============================] - 1s 3ms/step\n",
            "Accuracy after dropping channel index:  4  is:  7.101411622066338\n",
            "361/361 [==============================] - 1s 2ms/step\n",
            "Accuracy after dropping channel index:  7  is:  1.5501861955486274\n",
            "361/361 [==============================] - 1s 2ms/step\n",
            "\n",
            "The clean accuracy is:  1.5501861955486274\n",
            "The attack success rate is:  0.0\n",
            "The pruned channel index is:  7\n"
          ]
        }
      ]
    },
    {
      "cell_type": "code",
      "source": [],
      "metadata": {
        "id": "8BD9mVe6hDqo"
      },
      "execution_count": 21,
      "outputs": []
    },
    {
      "cell_type": "markdown",
      "source": [
        "## Could only prune till 58 our of 60 channels with the available RAM -- otherwise it was getting timed out -- but it is sufficient for the plot below"
      ],
      "metadata": {
        "id": "29KxzniqTCgr"
      }
    },
    {
      "cell_type": "code",
      "source": [
        "len(pruned_clean_acc)"
      ],
      "metadata": {
        "colab": {
          "base_uri": "https://localhost:8080/"
        },
        "id": "ivFTeOPtu8FU",
        "outputId": "ba47f7b4-7ac2-40b7-d454-6bdcd15db4df"
      },
      "execution_count": 22,
      "outputs": [
        {
          "output_type": "execute_result",
          "data": {
            "text/plain": [
              "61"
            ]
          },
          "metadata": {},
          "execution_count": 22
        }
      ]
    },
    {
      "cell_type": "markdown",
      "source": [
        "## this is because the accuracy is appended twice at channel_index = 29, 46 and 54 -- let's drop it for the plot"
      ],
      "metadata": {
        "id": "wzX4naysyfkE"
      }
    },
    {
      "cell_type": "code",
      "source": [
        "pruned_clean_acc.pop(np.where(sorted_act_ind == 29)[0][0])\n"
      ],
      "metadata": {
        "colab": {
          "base_uri": "https://localhost:8080/"
        },
        "id": "eDarCamRye5A",
        "outputId": "d23ed3c0-8e93-4f76-ea94-3b62ed4015a7"
      },
      "execution_count": 23,
      "outputs": [
        {
          "output_type": "execute_result",
          "data": {
            "text/plain": [
              "95.75647354291158"
            ]
          },
          "metadata": {},
          "execution_count": 23
        }
      ]
    },
    {
      "cell_type": "code",
      "source": [
        "pruned_clean_acc.pop(np.where(sorted_act_ind == 46)[0][0])"
      ],
      "metadata": {
        "colab": {
          "base_uri": "https://localhost:8080/"
        },
        "id": "UHZejk1nzuAb",
        "outputId": "2d6c1c82-b66e-4f56-8211-ba46e1f21870"
      },
      "execution_count": 24,
      "outputs": [
        {
          "output_type": "execute_result",
          "data": {
            "text/plain": [
              "92.09318437689443"
            ]
          },
          "metadata": {},
          "execution_count": 24
        }
      ]
    },
    {
      "cell_type": "code",
      "source": [
        "pruned_clean_acc.pop(np.where(sorted_act_ind == 54)[0][0])"
      ],
      "metadata": {
        "colab": {
          "base_uri": "https://localhost:8080/"
        },
        "id": "MA7jLIPE1i4Q",
        "outputId": "c30b6992-a7ca-4b8d-9b10-1191382bb2dd"
      },
      "execution_count": 25,
      "outputs": [
        {
          "output_type": "execute_result",
          "data": {
            "text/plain": [
              "84.43751623798389"
            ]
          },
          "metadata": {},
          "execution_count": 25
        }
      ]
    },
    {
      "cell_type": "code",
      "source": [
        "len(pruned_clean_acc)"
      ],
      "metadata": {
        "colab": {
          "base_uri": "https://localhost:8080/"
        },
        "id": "5EPXsNnBzYyM",
        "outputId": "978ba9d2-7e6f-4275-86c1-5f2987c7343e"
      },
      "execution_count": 26,
      "outputs": [
        {
          "output_type": "execute_result",
          "data": {
            "text/plain": [
              "58"
            ]
          },
          "metadata": {},
          "execution_count": 26
        }
      ]
    },
    {
      "cell_type": "markdown",
      "source": [
        "### How does channel-by-channel pruning affects clean_accuracy and attack_success_rate"
      ],
      "metadata": {
        "id": "iYsyaB4JvDMT"
      }
    },
    {
      "cell_type": "code",
      "source": [
        "# make attack success rate in proportion to channels ~ approximation\n",
        "i=0\n",
        "asr_plot = []\n",
        "for ci in sorted_act_ind:\n",
        "  print(i)\n",
        "  asr_plot.append(attack_success_rate[i])\n",
        "  if ci==29 or ci==46 or ci==54:\n",
        "    i+=1\n"
      ],
      "metadata": {
        "id": "bTgnOmZIvKlj"
      },
      "execution_count": null,
      "outputs": []
    },
    {
      "cell_type": "code",
      "source": [
        "asr_plot.pop()"
      ],
      "metadata": {
        "colab": {
          "base_uri": "https://localhost:8080/"
        },
        "id": "QbAo1t3Gx0Vw",
        "outputId": "57cb8247-18be-4ffc-d5b6-db80654a4c56"
      },
      "execution_count": 30,
      "outputs": [
        {
          "output_type": "execute_result",
          "data": {
            "text/plain": [
              "0.0"
            ]
          },
          "metadata": {},
          "execution_count": 30
        }
      ]
    },
    {
      "cell_type": "code",
      "source": [
        "asr_plot.pop()"
      ],
      "metadata": {
        "colab": {
          "base_uri": "https://localhost:8080/"
        },
        "id": "tpj2OfKrNG0G",
        "outputId": "fe870a9c-32ed-4d45-b0c1-bbee220a4f82"
      },
      "execution_count": 31,
      "outputs": [
        {
          "output_type": "execute_result",
          "data": {
            "text/plain": [
              "0.0"
            ]
          },
          "metadata": {},
          "execution_count": 31
        }
      ]
    },
    {
      "cell_type": "code",
      "source": [
        "len(asr_plot)"
      ],
      "metadata": {
        "colab": {
          "base_uri": "https://localhost:8080/"
        },
        "id": "lQqp6WheNIsF",
        "outputId": "72d2f271-aa1c-402b-ca55-410387c2a314"
      },
      "execution_count": 32,
      "outputs": [
        {
          "output_type": "execute_result",
          "data": {
            "text/plain": [
              "58"
            ]
          },
          "metadata": {},
          "execution_count": 32
        }
      ]
    },
    {
      "cell_type": "markdown",
      "source": [
        "### NOTE: I have done all these adjustments because:\n",
        "- the model could only be pruned till 58 channels\n",
        "- attack success rate was only calculated and stored at pruning thresholds i.e. 2,4,10 hence I extrapolated them to make it of length - 58\n",
        "- the plot below is an approximated plot-- but it gives the gist of how ASR and accuracy varies with the fraction of pruned channels"
      ],
      "metadata": {
        "id": "WDa020nlS47h"
      }
    },
    {
      "cell_type": "code",
      "source": [
        "import matplotlib.pyplot as plt\n",
        "x_axis = np.arange(1,59)/59\n",
        "plt.plot(x_axis,pruned_clean_acc)\n",
        "plt.plot(x_axis,asr_plot)\n",
        "plt.legend(['Clean_accuracy','Attack Success Rate'])\n",
        "plt.xlabel(\"Fraction of Channels Pruned\")\n",
        "plt.ylabel(\"Rate\")\n",
        "plt.title(\"Accuracy and Attack Success Rate as a function of the Fraction of Channels Pruned\")"
      ],
      "metadata": {
        "colab": {
          "base_uri": "https://localhost:8080/",
          "height": 489
        },
        "id": "rowlVhyb0RB6",
        "outputId": "1d36be4b-d71a-4fd4-d2f0-27d54f11f575"
      },
      "execution_count": 33,
      "outputs": [
        {
          "output_type": "execute_result",
          "data": {
            "text/plain": [
              "Text(0.5, 1.0, 'Accuracy and Attack Success Rate as a function of the Fraction of Channels Pruned')"
            ]
          },
          "metadata": {},
          "execution_count": 33
        },
        {
          "output_type": "display_data",
          "data": {
            "text/plain": [
              "<Figure size 640x480 with 1 Axes>"
            ],
            "image/png": "[encoded data removed]"
          },
          "metadata": {}
        }
      ]
    },
    {
      "cell_type": "code",
      "source": [
        "keras.backend.clear_session()"
      ],
      "metadata": {
        "id": "FS1sfrKpNyqi"
      },
      "execution_count": 42,
      "outputs": []
    },
    {
      "cell_type": "markdown",
      "source": [
        "# pruning completed, now we'll make our goodnet"
      ],
      "metadata": {
        "id": "600HSCr9hFFQ"
      }
    },
    {
      "cell_type": "markdown",
      "source": [
        "\n",
        "1. Output the correct class if the test input is clean. The correct class will be in [1,N].\n",
        "2. Output class N+1 if the input is backdoored\n",
        "\n",
        "Here, N = 1282"
      ],
      "metadata": {
        "id": "HLqMNtvVik8v"
      }
    },
    {
      "cell_type": "code",
      "source": [
        "len(np.unique(clean_y))"
      ],
      "metadata": {
        "colab": {
          "base_uri": "https://localhost:8080/"
        },
        "id": "tmE3RydbhDsx",
        "outputId": "c81b87c8-cd20-411f-b1a4-49a8eec7a0de"
      },
      "execution_count": 34,
      "outputs": [
        {
          "output_type": "execute_result",
          "data": {
            "text/plain": [
              "1283"
            ]
          },
          "metadata": {},
          "execution_count": 34
        }
      ]
    },
    {
      "cell_type": "code",
      "source": [
        "class GoodNet(keras.Model):\n",
        "\n",
        "  def __init__(self, BadNet, B_p):\n",
        "      super(GoodNet, self).__init__()\n",
        "      self.BadNet = BadNet\n",
        "      self.B_p = B_p\n",
        "\n",
        "  def predict(self,data):\n",
        "      y = np.argmax(self.BadNet(data), axis=1)\n",
        "      y_p = np.argmax(self.B_p(data), axis=1)\n",
        "      pred = np.zeros(data.shape[0])\n",
        "      for i in range(data.shape[0]):\n",
        "        if y[i]==y_p[i]:\n",
        "          pred[i] = y[i]\n",
        "        else:\n",
        "          pred[i] = 1283 # N+1\n",
        "      return pred"
      ],
      "metadata": {
        "id": "mZFHl1yxhDvd"
      },
      "execution_count": 6,
      "outputs": []
    },
    {
      "cell_type": "code",
      "source": [],
      "metadata": {
        "id": "48iTmrllhDx9"
      },
      "execution_count": 6,
      "outputs": []
    },
    {
      "cell_type": "markdown",
      "source": [
        "### Evaluate the goodnet"
      ],
      "metadata": {
        "id": "721kV_3-lYMV"
      }
    },
    {
      "cell_type": "code",
      "source": [
        "pruned_model_2 = keras.models.load_model('/content/drive/MyDrive/Sem 3/MLinCyberSec/Labs/Lab4/model/model_2.h5')\n",
        "pruned_model_4 = keras.models.load_model('/content/drive/MyDrive/Sem 3/MLinCyberSec/Labs/Lab4/model/model_4.h5')\n",
        "pruned_model_10 = keras.models.load_model('/content/drive/MyDrive/Sem 3/MLinCyberSec/Labs/Lab4/model/model_10.h5')"
      ],
      "metadata": {
        "id": "vcvmzALKlb2U",
        "colab": {
          "base_uri": "https://localhost:8080/"
        },
        "outputId": "46d773ae-c59a-4cc1-a37c-fb67374d4bd8"
      },
      "execution_count": 7,
      "outputs": [
        {
          "output_type": "stream",
          "name": "stderr",
          "text": [
            "WARNING:tensorflow:No training configuration found in the save file, so the model was *not* compiled. Compile it manually.\n",
            "WARNING:tensorflow:No training configuration found in the save file, so the model was *not* compiled. Compile it manually.\n",
            "WARNING:tensorflow:No training configuration found in the save file, so the model was *not* compiled. Compile it manually.\n"
          ]
        }
      ]
    },
    {
      "cell_type": "code",
      "source": [
        "good_model_2 = GoodNet(model, pruned_model_2)\n",
        "good_model_4 = GoodNet(model, pruned_model_4)\n",
        "good_model_10 = GoodNet(model, pruned_model_10)\n"
      ],
      "metadata": {
        "id": "2g41iyOM5L18"
      },
      "execution_count": 8,
      "outputs": []
    },
    {
      "cell_type": "code",
      "source": [
        "# load test data\n",
        "clean_test_x, clean_test_y = load_data(test_clean_data)\n",
        "bad_test_x, bad_test_y = load_data(test_bad_data)"
      ],
      "metadata": {
        "id": "GzCfDFrtlcAO"
      },
      "execution_count": 9,
      "outputs": []
    },
    {
      "cell_type": "code",
      "source": [
        "pruned_thresholds = [2,4,10]\n",
        "clean_good_model_acc = []\n",
        "clean_pruned_model_acc = []\n",
        "asr_good_model = []\n",
        "asr_pruned_model = []\n"
      ],
      "metadata": {
        "id": "uxUxk1P37e5C"
      },
      "execution_count": 17,
      "outputs": []
    },
    {
      "cell_type": "code",
      "source": [
        "\n",
        "# Clean accuracy\n",
        "\n",
        "# Pruned\n",
        "print(\"Pruned model:\")\n",
        "cl_test_2_label_p = np.argmax(pruned_model_2.predict(clean_test_x), axis=1)\n",
        "clean_test_2_accuracy = np.mean(np.equal(cl_test_2_label_p, clean_test_y))*100\n",
        "print('Clean test data Classification accuracy for 2% drop model:', clean_test_2_accuracy)\n",
        "clean_pruned_model_acc.append(clean_test_2_accuracy)\n",
        "\n",
        "cl_test_4_label_p = np.argmax(pruned_model_4.predict(clean_test_x), axis=1)\n",
        "clean_test_4_accuracy = np.mean(np.equal(cl_test_4_label_p, clean_test_y))*100\n",
        "print('Clean test data Classification accuracy for 4% drop model:', clean_test_4_accuracy)\n",
        "clean_pruned_model_acc.append(clean_test_4_accuracy)\n",
        "\n",
        "cl_test_10_label_p = np.argmax(pruned_model_10.predict(clean_test_x), axis=1)\n",
        "clean_test_10_accuracy = np.mean(np.equal(cl_test_10_label_p, clean_test_y))*100\n",
        "print('Clean test data Classification accuracy for 10% drop model:', clean_test_10_accuracy)\n",
        "clean_pruned_model_acc.append(clean_test_10_accuracy)\n",
        "\n",
        "# Good\n",
        "print(\"Good model:\")\n",
        "cl_test_2_label_p = good_model_2.predict(clean_test_x)\n",
        "clean_test_2_accuracy = np.mean(np.equal(cl_test_2_label_p, clean_test_y))*100\n",
        "print('Clean test data Classification accuracy for 2% drop model:', clean_test_2_accuracy)\n",
        "clean_good_model_acc.append(clean_test_2_accuracy)\n",
        "\n",
        "cl_test_4_label_p = good_model_4.predict(clean_test_x)\n",
        "clean_test_4_accuracy = np.mean(np.equal(cl_test_4_label_p, clean_test_y))*100\n",
        "print('Clean test data Classification accuracy for 4% drop model:', clean_test_4_accuracy)\n",
        "clean_good_model_acc.append(clean_test_4_accuracy)\n",
        "\n",
        "cl_test_10_label_p = good_model_10.predict(clean_test_x)\n",
        "clean_test_10_accuracy = np.mean(np.equal(cl_test_10_label_p, clean_test_y))*100\n",
        "print('Clean test data Classification accuracy for 10% drop model:', clean_test_10_accuracy)\n",
        "clean_good_model_acc.append(clean_test_10_accuracy)"
      ],
      "metadata": {
        "colab": {
          "base_uri": "https://localhost:8080/"
        },
        "id": "U1hxg6wj_Y1d",
        "outputId": "7ac22627-d816-437c-9132-b6f6cd8976c5"
      },
      "execution_count": 18,
      "outputs": [
        {
          "output_type": "stream",
          "name": "stdout",
          "text": [
            "Pruned model:\n",
            "401/401 [==============================] - 1s 2ms/step\n",
            "Clean test data Classification accuracy for 2% drop model: 95.90023382696803\n",
            "401/401 [==============================] - 1s 2ms/step\n",
            "Clean test data Classification accuracy for 4% drop model: 92.29150428682775\n",
            "401/401 [==============================] - 1s 2ms/step\n",
            "Clean test data Classification accuracy for 10% drop model: 84.54403741231489\n",
            "Good model:\n",
            "Clean test data Classification accuracy for 2% drop model: 95.74434918160561\n",
            "Clean test data Classification accuracy for 4% drop model: 92.1278254091972\n",
            "Clean test data Classification accuracy for 10% drop model: 84.3335931410756\n"
          ]
        }
      ]
    },
    {
      "cell_type": "code",
      "source": [
        "# Attack success rate\n",
        "\n",
        "# Pruned\n",
        "print(\"Pruned Model:\")\n",
        "bd_test_2_label_p = np.argmax(pruned_model_2.predict(bad_test_x), axis=1)\n",
        "asr_2 = np.mean(np.equal(bd_test_2_label_p, bad_test_y))*100\n",
        "print('Attack success rate for 2% drop model:', asr_2)\n",
        "asr_pruned_model.append(asr_2)\n",
        "\n",
        "bd_test_4_label_p = np.argmax(pruned_model_4.predict(bad_test_x), axis=1)\n",
        "asr_4 = np.mean(np.equal(bd_test_4_label_p, bad_test_y))*100\n",
        "print('Attack success rate for 4% drop model:', asr_4)\n",
        "asr_pruned_model.append(asr_4)\n",
        "\n",
        "bd_test_10_label_p = np.argmax(pruned_model_10.predict(bad_test_x), axis=1)\n",
        "asr_10 = np.mean(np.equal(bd_test_10_label_p, bad_test_y))*100\n",
        "print('Attack success rate for 10% drop model:', asr_10)\n",
        "asr_pruned_model.append(asr_10)\n",
        "\n",
        "#Good\n",
        "print(\"Good model:\")\n",
        "bd_test_2_label_p = good_model_2.predict(bad_test_x)\n",
        "asr_2 = np.mean(np.equal(bd_test_2_label_p, bad_test_y))*100\n",
        "print('Attack success rate for 2% drop model:', asr_2)\n",
        "asr_good_model.append(asr_2)\n",
        "\n",
        "bd_test_4_label_p = good_model_4.predict(bad_test_x)\n",
        "asr_4 = np.mean(np.equal(bd_test_4_label_p, bad_test_y))*100\n",
        "print('Attack success rate for 4% drop model:', asr_4)\n",
        "asr_good_model.append(asr_4)\n",
        "\n",
        "bd_test_10_label_p = good_model_10.predict(bad_test_x)\n",
        "asr_10 = np.mean(np.equal(bd_test_10_label_p, bad_test_y))*100\n",
        "print('Attack success rate for 10% drop model:', asr_10)\n",
        "asr_good_model.append(asr_10)"
      ],
      "metadata": {
        "colab": {
          "base_uri": "https://localhost:8080/"
        },
        "id": "FXpqxYuX_rgQ",
        "outputId": "c347a06c-e1b8-488f-b493-0b0a6fdcbc85"
      },
      "execution_count": 19,
      "outputs": [
        {
          "output_type": "stream",
          "name": "stdout",
          "text": [
            "Pruned Model:\n",
            "401/401 [==============================] - 1s 3ms/step\n",
            "Attack success rate for 2% drop model: 100.0\n",
            "401/401 [==============================] - 1s 3ms/step\n",
            "Attack success rate for 4% drop model: 99.98441153546376\n",
            "401/401 [==============================] - 1s 2ms/step\n",
            "Attack success rate for 10% drop model: 77.20966484801247\n",
            "Good model:\n",
            "Attack success rate for 2% drop model: 100.0\n",
            "Attack success rate for 4% drop model: 99.98441153546376\n",
            "Attack success rate for 10% drop model: 77.20966484801247\n"
          ]
        }
      ]
    },
    {
      "cell_type": "markdown",
      "source": [
        "# Summarizing models"
      ],
      "metadata": {
        "id": "1z4zFKniBkdt"
      }
    },
    {
      "cell_type": "code",
      "source": [
        "print(\"Pruned model:\")\n",
        "test_acc = clean_pruned_model_acc\n",
        "attack_rate = asr_pruned_model\n",
        "data = {\n",
        "    \"test_acc\": test_acc,\n",
        "    \"attack_success_rate\": attack_rate,\n",
        "    \"model\": [\"pruned_model_2%\", \"pruned_model_4%\", \"pruned_model_10%\"]\n",
        "}\n",
        "df = pd.DataFrame(data)\n",
        "df.set_index('model')"
      ],
      "metadata": {
        "colab": {
          "base_uri": "https://localhost:8080/",
          "height": 192
        },
        "id": "nDV8yN9el_4B",
        "outputId": "f4813c18-b203-4356-dc82-5696e7e81a3d"
      },
      "execution_count": 20,
      "outputs": [
        {
          "output_type": "stream",
          "name": "stdout",
          "text": [
            "Pruned model:\n"
          ]
        },
        {
          "output_type": "execute_result",
          "data": {
            "text/plain": [
              "                   test_acc  attack_success_rate\n",
              "model                                           \n",
              "pruned_model_2%   95.900234           100.000000\n",
              "pruned_model_4%   92.291504            99.984412\n",
              "pruned_model_10%  84.544037            77.209665"
            ],
            "text/html": [
              "\n",
              "  <div id=\"df-a0cd68ef-f800-4636-b165-b8ff4f657c12\" class=\"colab-df-container\">\n",
              "    <div>\n",
              "<style scoped>\n",
              "    .dataframe tbody tr th:only-of-type {\n",
              "        vertical-align: middle;\n",
              "    }\n",
              "\n",
              "    .dataframe tbody tr th {\n",
              "        vertical-align: top;\n",
              "    }\n",
              "\n",
              "    .dataframe thead th {\n",
              "        text-align: right;\n",
              "    }\n",
              "</style>\n",
              "<table border=\"1\" class=\"dataframe\">\n",
              "  <thead>\n",
              "    <tr style=\"text-align: right;\">\n",
              "      <th></th>\n",
              "      <th>test_acc</th>\n",
              "      <th>attack_success_rate</th>\n",
              "    </tr>\n",
              "    <tr>\n",
              "      <th>model</th>\n",
              "      <th></th>\n",
              "      <th></th>\n",
              "    </tr>\n",
              "  </thead>\n",
              "  <tbody>\n",
              "    <tr>\n",
              "      <th>pruned_model_2%</th>\n",
              "      <td>95.900234</td>\n",
              "      <td>100.000000</td>\n",
              "    </tr>\n",
              "    <tr>\n",
              "      <th>pruned_model_4%</th>\n",
              "      <td>92.291504</td>\n",
              "      <td>99.984412</td>\n",
              "    </tr>\n",
              "    <tr>\n",
              "      <th>pruned_model_10%</th>\n",
              "      <td>84.544037</td>\n",
              "      <td>77.209665</td>\n",
              "    </tr>\n",
              "  </tbody>\n",
              "</table>\n",
              "</div>\n",
              "    <div class=\"colab-df-buttons\">\n",
              "\n",
              "  <div class=\"colab-df-container\">\n",
              "    <button class=\"colab-df-convert\" onclick=\"convertToInteractive('df-a0cd68ef-f800-4636-b165-b8ff4f657c12')\"\n",
              "            title=\"Convert this dataframe to an interactive table.\"\n",
              "            style=\"display:none;\">\n",
              "\n",
              "  <svg xmlns=\"http://www.w3.org/2000/svg\" height=\"24px\" viewBox=\"0 -960 960 960\">\n",
              "    <path d=\"M120-120v-720h720v720H120Zm60-500h600v-160H180v160Zm220 220h160v-160H400v160Zm0 220h160v-160H400v160ZM180-400h160v-160H180v160Zm440 0h160v-160H620v160ZM180-180h160v-160H180v160Zm440 0h160v-160H620v160Z\"/>\n",
              "  </svg>\n",
              "    </button>\n",
              "\n",
              "  <style>\n",
              "    .colab-df-container {\n",
              "      display:flex;\n",
              "      gap: 12px;\n",
              "    }\n",
              "\n",
              "    .colab-df-convert {\n",
              "      background-color: #E8F0FE;\n",
              "      border: none;\n",
              "      border-radius: 50%;\n",
              "      cursor: pointer;\n",
              "      display: none;\n",
              "      fill: #1967D2;\n",
              "      height: 32px;\n",
              "      padding: 0 0 0 0;\n",
              "      width: 32px;\n",
              "    }\n",
              "\n",
              "    .colab-df-convert:hover {\n",
              "      background-color: #E2EBFA;\n",
              "      box-shadow: 0px 1px 2px rgba(60, 64, 67, 0.3), 0px 1px 3px 1px rgba(60, 64, 67, 0.15);\n",
              "      fill: #174EA6;\n",
              "    }\n",
              "\n",
              "    .colab-df-buttons div {\n",
              "      margin-bottom: 4px;\n",
              "    }\n",
              "\n",
              "    [theme=dark] .colab-df-convert {\n",
              "      background-color: #3B4455;\n",
              "      fill: #D2E3FC;\n",
              "    }\n",
              "\n",
              "    [theme=dark] .colab-df-convert:hover {\n",
              "      background-color: #434B5C;\n",
              "      box-shadow: 0px 1px 3px 1px rgba(0, 0, 0, 0.15);\n",
              "      filter: drop-shadow(0px 1px 2px rgba(0, 0, 0, 0.3));\n",
              "      fill: #FFFFFF;\n",
              "    }\n",
              "  </style>\n",
              "\n",
              "    <script>\n",
              "      const buttonEl =\n",
              "        document.querySelector('#df-a0cd68ef-f800-4636-b165-b8ff4f657c12 button.colab-df-convert');\n",
              "      buttonEl.style.display =\n",
              "        google.colab.kernel.accessAllowed ? 'block' : 'none';\n",
              "\n",
              "      async function convertToInteractive(key) {\n",
              "        const element = document.querySelector('#df-a0cd68ef-f800-4636-b165-b8ff4f657c12');\n",
              "        const dataTable =\n",
              "          await google.colab.kernel.invokeFunction('convertToInteractive',\n",
              "                                                    [key], {});\n",
              "        if (!dataTable) return;\n",
              "\n",
              "        const docLinkHtml = 'Like what you see? Visit the ' +\n",
              "          '<a target=\"_blank\" href=https://colab.research.google.com/notebooks/data_table.ipynb>data table notebook</a>'\n",
              "          + ' to learn more about interactive tables.';\n",
              "        element.innerHTML = '';\n",
              "        dataTable['output_type'] = 'display_data';\n",
              "        await google.colab.output.renderOutput(dataTable, element);\n",
              "        const docLink = document.createElement('div');\n",
              "        docLink.innerHTML = docLinkHtml;\n",
              "        element.appendChild(docLink);\n",
              "      }\n",
              "    </script>\n",
              "  </div>\n",
              "\n",
              "\n",
              "<div id=\"df-e685819a-c25d-4fa8-a009-e1b770d9c091\">\n",
              "  <button class=\"colab-df-quickchart\" onclick=\"quickchart('df-e685819a-c25d-4fa8-a009-e1b770d9c091')\"\n",
              "            title=\"Suggest charts\"\n",
              "            style=\"display:none;\">\n",
              "\n",
              "<svg xmlns=\"http://www.w3.org/2000/svg\" height=\"24px\"viewBox=\"0 0 24 24\"\n",
              "     width=\"24px\">\n",
              "    <g>\n",
              "        <path d=\"M19 3H5c-1.1 0-2 .9-2 2v14c0 1.1.9 2 2 2h14c1.1 0 2-.9 2-2V5c0-1.1-.9-2-2-2zM9 17H7v-7h2v7zm4 0h-2V7h2v10zm4 0h-2v-4h2v4z\"/>\n",
              "    </g>\n",
              "</svg>\n",
              "  </button>\n",
              "\n",
              "<style>\n",
              "  .colab-df-quickchart {\n",
              "      --bg-color: #E8F0FE;\n",
              "      --fill-color: #1967D2;\n",
              "      --hover-bg-color: #E2EBFA;\n",
              "      --hover-fill-color: #174EA6;\n",
              "      --disabled-fill-color: #AAA;\n",
              "      --disabled-bg-color: #DDD;\n",
              "  }\n",
              "\n",
              "  [theme=dark] .colab-df-quickchart {\n",
              "      --bg-color: #3B4455;\n",
              "      --fill-color: #D2E3FC;\n",
              "      --hover-bg-color: #434B5C;\n",
              "      --hover-fill-color: #FFFFFF;\n",
              "      --disabled-bg-color: #3B4455;\n",
              "      --disabled-fill-color: #666;\n",
              "  }\n",
              "\n",
              "  .colab-df-quickchart {\n",
              "    background-color: var(--bg-color);\n",
              "    border: none;\n",
              "    border-radius: 50%;\n",
              "    cursor: pointer;\n",
              "    display: none;\n",
              "    fill: var(--fill-color);\n",
              "    height: 32px;\n",
              "    padding: 0;\n",
              "    width: 32px;\n",
              "  }\n",
              "\n",
              "  .colab-df-quickchart:hover {\n",
              "    background-color: var(--hover-bg-color);\n",
              "    box-shadow: 0 1px 2px rgba(60, 64, 67, 0.3), 0 1px 3px 1px rgba(60, 64, 67, 0.15);\n",
              "    fill: var(--button-hover-fill-color);\n",
              "  }\n",
              "\n",
              "  .colab-df-quickchart-complete:disabled,\n",
              "  .colab-df-quickchart-complete:disabled:hover {\n",
              "    background-color: var(--disabled-bg-color);\n",
              "    fill: var(--disabled-fill-color);\n",
              "    box-shadow: none;\n",
              "  }\n",
              "\n",
              "  .colab-df-spinner {\n",
              "    border: 2px solid var(--fill-color);\n",
              "    border-color: transparent;\n",
              "    border-bottom-color: var(--fill-color);\n",
              "    animation:\n",
              "      spin 1s steps(1) infinite;\n",
              "  }\n",
              "\n",
              "  @keyframes spin {\n",
              "    0% {\n",
              "      border-color: transparent;\n",
              "      border-bottom-color: var(--fill-color);\n",
              "      border-left-color: var(--fill-color);\n",
              "    }\n",
              "    20% {\n",
              "      border-color: transparent;\n",
              "      border-left-color: var(--fill-color);\n",
              "      border-top-color: var(--fill-color);\n",
              "    }\n",
              "    30% {\n",
              "      border-color: transparent;\n",
              "      border-left-color: var(--fill-color);\n",
              "      border-top-color: var(--fill-color);\n",
              "      border-right-color: var(--fill-color);\n",
              "    }\n",
              "    40% {\n",
              "      border-color: transparent;\n",
              "      border-right-color: var(--fill-color);\n",
              "      border-top-color: var(--fill-color);\n",
              "    }\n",
              "    60% {\n",
              "      border-color: transparent;\n",
              "      border-right-color: var(--fill-color);\n",
              "    }\n",
              "    80% {\n",
              "      border-color: transparent;\n",
              "      border-right-color: var(--fill-color);\n",
              "      border-bottom-color: var(--fill-color);\n",
              "    }\n",
              "    90% {\n",
              "      border-color: transparent;\n",
              "      border-bottom-color: var(--fill-color);\n",
              "    }\n",
              "  }\n",
              "</style>\n",
              "\n",
              "  <script>\n",
              "    async function quickchart(key) {\n",
              "      const quickchartButtonEl =\n",
              "        document.querySelector('#' + key + ' button');\n",
              "      quickchartButtonEl.disabled = true;  // To prevent multiple clicks.\n",
              "      quickchartButtonEl.classList.add('colab-df-spinner');\n",
              "      try {\n",
              "        const charts = await google.colab.kernel.invokeFunction(\n",
              "            'suggestCharts', [key], {});\n",
              "      } catch (error) {\n",
              "        console.error('Error during call to suggestCharts:', error);\n",
              "      }\n",
              "      quickchartButtonEl.classList.remove('colab-df-spinner');\n",
              "      quickchartButtonEl.classList.add('colab-df-quickchart-complete');\n",
              "    }\n",
              "    (() => {\n",
              "      let quickchartButtonEl =\n",
              "        document.querySelector('#df-e685819a-c25d-4fa8-a009-e1b770d9c091 button');\n",
              "      quickchartButtonEl.style.display =\n",
              "        google.colab.kernel.accessAllowed ? 'block' : 'none';\n",
              "    })();\n",
              "  </script>\n",
              "</div>\n",
              "    </div>\n",
              "  </div>\n"
            ]
          },
          "metadata": {},
          "execution_count": 20
        }
      ]
    },
    {
      "cell_type": "code",
      "source": [
        "print(\"Good model:\")\n",
        "test_acc = clean_good_model_acc\n",
        "attack_rate = asr_good_model\n",
        "data = {\n",
        "    \"test_acc\": test_acc,\n",
        "    \"attack_success_rate\": attack_rate,\n",
        "    \"model\": [\"good_model_2%\", \"good_model_4%\", \"good_model_10%\"]\n",
        "}\n",
        "df = pd.DataFrame(data)\n",
        "df.set_index('model')"
      ],
      "metadata": {
        "colab": {
          "base_uri": "https://localhost:8080/",
          "height": 192
        },
        "id": "M-HI70P8B8rQ",
        "outputId": "7bd322e8-8ba4-42a7-bd80-8b2e3d1ba926"
      },
      "execution_count": 21,
      "outputs": [
        {
          "output_type": "stream",
          "name": "stdout",
          "text": [
            "Good model:\n"
          ]
        },
        {
          "output_type": "execute_result",
          "data": {
            "text/plain": [
              "                 test_acc  attack_success_rate\n",
              "model                                         \n",
              "good_model_2%   95.744349           100.000000\n",
              "good_model_4%   92.127825            99.984412\n",
              "good_model_10%  84.333593            77.209665"
            ],
            "text/html": [
              "\n",
              "  <div id=\"df-b43f7aa7-684c-40fd-b94b-401c8d02a105\" class=\"colab-df-container\">\n",
              "    <div>\n",
              "<style scoped>\n",
              "    .dataframe tbody tr th:only-of-type {\n",
              "        vertical-align: middle;\n",
              "    }\n",
              "\n",
              "    .dataframe tbody tr th {\n",
              "        vertical-align: top;\n",
              "    }\n",
              "\n",
              "    .dataframe thead th {\n",
              "        text-align: right;\n",
              "    }\n",
              "</style>\n",
              "<table border=\"1\" class=\"dataframe\">\n",
              "  <thead>\n",
              "    <tr style=\"text-align: right;\">\n",
              "      <th></th>\n",
              "      <th>test_acc</th>\n",
              "      <th>attack_success_rate</th>\n",
              "    </tr>\n",
              "    <tr>\n",
              "      <th>model</th>\n",
              "      <th></th>\n",
              "      <th></th>\n",
              "    </tr>\n",
              "  </thead>\n",
              "  <tbody>\n",
              "    <tr>\n",
              "      <th>good_model_2%</th>\n",
              "      <td>95.744349</td>\n",
              "      <td>100.000000</td>\n",
              "    </tr>\n",
              "    <tr>\n",
              "      <th>good_model_4%</th>\n",
              "      <td>92.127825</td>\n",
              "      <td>99.984412</td>\n",
              "    </tr>\n",
              "    <tr>\n",
              "      <th>good_model_10%</th>\n",
              "      <td>84.333593</td>\n",
              "      <td>77.209665</td>\n",
              "    </tr>\n",
              "  </tbody>\n",
              "</table>\n",
              "</div>\n",
              "    <div class=\"colab-df-buttons\">\n",
              "\n",
              "  <div class=\"colab-df-container\">\n",
              "    <button class=\"colab-df-convert\" onclick=\"convertToInteractive('df-b43f7aa7-684c-40fd-b94b-401c8d02a105')\"\n",
              "            title=\"Convert this dataframe to an interactive table.\"\n",
              "            style=\"display:none;\">\n",
              "\n",
              "  <svg xmlns=\"http://www.w3.org/2000/svg\" height=\"24px\" viewBox=\"0 -960 960 960\">\n",
              "    <path d=\"M120-120v-720h720v720H120Zm60-500h600v-160H180v160Zm220 220h160v-160H400v160Zm0 220h160v-160H400v160ZM180-400h160v-160H180v160Zm440 0h160v-160H620v160ZM180-180h160v-160H180v160Zm440 0h160v-160H620v160Z\"/>\n",
              "  </svg>\n",
              "    </button>\n",
              "\n",
              "  <style>\n",
              "    .colab-df-container {\n",
              "      display:flex;\n",
              "      gap: 12px;\n",
              "    }\n",
              "\n",
              "    .colab-df-convert {\n",
              "      background-color: #E8F0FE;\n",
              "      border: none;\n",
              "      border-radius: 50%;\n",
              "      cursor: pointer;\n",
              "      display: none;\n",
              "      fill: #1967D2;\n",
              "      height: 32px;\n",
              "      padding: 0 0 0 0;\n",
              "      width: 32px;\n",
              "    }\n",
              "\n",
              "    .colab-df-convert:hover {\n",
              "      background-color: #E2EBFA;\n",
              "      box-shadow: 0px 1px 2px rgba(60, 64, 67, 0.3), 0px 1px 3px 1px rgba(60, 64, 67, 0.15);\n",
              "      fill: #174EA6;\n",
              "    }\n",
              "\n",
              "    .colab-df-buttons div {\n",
              "      margin-bottom: 4px;\n",
              "    }\n",
              "\n",
              "    [theme=dark] .colab-df-convert {\n",
              "      background-color: #3B4455;\n",
              "      fill: #D2E3FC;\n",
              "    }\n",
              "\n",
              "    [theme=dark] .colab-df-convert:hover {\n",
              "      background-color: #434B5C;\n",
              "      box-shadow: 0px 1px 3px 1px rgba(0, 0, 0, 0.15);\n",
              "      filter: drop-shadow(0px 1px 2px rgba(0, 0, 0, 0.3));\n",
              "      fill: #FFFFFF;\n",
              "    }\n",
              "  </style>\n",
              "\n",
              "    <script>\n",
              "      const buttonEl =\n",
              "        document.querySelector('#df-b43f7aa7-684c-40fd-b94b-401c8d02a105 button.colab-df-convert');\n",
              "      buttonEl.style.display =\n",
              "        google.colab.kernel.accessAllowed ? 'block' : 'none';\n",
              "\n",
              "      async function convertToInteractive(key) {\n",
              "        const element = document.querySelector('#df-b43f7aa7-684c-40fd-b94b-401c8d02a105');\n",
              "        const dataTable =\n",
              "          await google.colab.kernel.invokeFunction('convertToInteractive',\n",
              "                                                    [key], {});\n",
              "        if (!dataTable) return;\n",
              "\n",
              "        const docLinkHtml = 'Like what you see? Visit the ' +\n",
              "          '<a target=\"_blank\" href=https://colab.research.google.com/notebooks/data_table.ipynb>data table notebook</a>'\n",
              "          + ' to learn more about interactive tables.';\n",
              "        element.innerHTML = '';\n",
              "        dataTable['output_type'] = 'display_data';\n",
              "        await google.colab.output.renderOutput(dataTable, element);\n",
              "        const docLink = document.createElement('div');\n",
              "        docLink.innerHTML = docLinkHtml;\n",
              "        element.appendChild(docLink);\n",
              "      }\n",
              "    </script>\n",
              "  </div>\n",
              "\n",
              "\n",
              "<div id=\"df-a56f1741-3a51-457a-a891-767c9b83bbf2\">\n",
              "  <button class=\"colab-df-quickchart\" onclick=\"quickchart('df-a56f1741-3a51-457a-a891-767c9b83bbf2')\"\n",
              "            title=\"Suggest charts\"\n",
              "            style=\"display:none;\">\n",
              "\n",
              "<svg xmlns=\"http://www.w3.org/2000/svg\" height=\"24px\"viewBox=\"0 0 24 24\"\n",
              "     width=\"24px\">\n",
              "    <g>\n",
              "        <path d=\"M19 3H5c-1.1 0-2 .9-2 2v14c0 1.1.9 2 2 2h14c1.1 0 2-.9 2-2V5c0-1.1-.9-2-2-2zM9 17H7v-7h2v7zm4 0h-2V7h2v10zm4 0h-2v-4h2v4z\"/>\n",
              "    </g>\n",
              "</svg>\n",
              "  </button>\n",
              "\n",
              "<style>\n",
              "  .colab-df-quickchart {\n",
              "      --bg-color: #E8F0FE;\n",
              "      --fill-color: #1967D2;\n",
              "      --hover-bg-color: #E2EBFA;\n",
              "      --hover-fill-color: #174EA6;\n",
              "      --disabled-fill-color: #AAA;\n",
              "      --disabled-bg-color: #DDD;\n",
              "  }\n",
              "\n",
              "  [theme=dark] .colab-df-quickchart {\n",
              "      --bg-color: #3B4455;\n",
              "      --fill-color: #D2E3FC;\n",
              "      --hover-bg-color: #434B5C;\n",
              "      --hover-fill-color: #FFFFFF;\n",
              "      --disabled-bg-color: #3B4455;\n",
              "      --disabled-fill-color: #666;\n",
              "  }\n",
              "\n",
              "  .colab-df-quickchart {\n",
              "    background-color: var(--bg-color);\n",
              "    border: none;\n",
              "    border-radius: 50%;\n",
              "    cursor: pointer;\n",
              "    display: none;\n",
              "    fill: var(--fill-color);\n",
              "    height: 32px;\n",
              "    padding: 0;\n",
              "    width: 32px;\n",
              "  }\n",
              "\n",
              "  .colab-df-quickchart:hover {\n",
              "    background-color: var(--hover-bg-color);\n",
              "    box-shadow: 0 1px 2px rgba(60, 64, 67, 0.3), 0 1px 3px 1px rgba(60, 64, 67, 0.15);\n",
              "    fill: var(--button-hover-fill-color);\n",
              "  }\n",
              "\n",
              "  .colab-df-quickchart-complete:disabled,\n",
              "  .colab-df-quickchart-complete:disabled:hover {\n",
              "    background-color: var(--disabled-bg-color);\n",
              "    fill: var(--disabled-fill-color);\n",
              "    box-shadow: none;\n",
              "  }\n",
              "\n",
              "  .colab-df-spinner {\n",
              "    border: 2px solid var(--fill-color);\n",
              "    border-color: transparent;\n",
              "    border-bottom-color: var(--fill-color);\n",
              "    animation:\n",
              "      spin 1s steps(1) infinite;\n",
              "  }\n",
              "\n",
              "  @keyframes spin {\n",
              "    0% {\n",
              "      border-color: transparent;\n",
              "      border-bottom-color: var(--fill-color);\n",
              "      border-left-color: var(--fill-color);\n",
              "    }\n",
              "    20% {\n",
              "      border-color: transparent;\n",
              "      border-left-color: var(--fill-color);\n",
              "      border-top-color: var(--fill-color);\n",
              "    }\n",
              "    30% {\n",
              "      border-color: transparent;\n",
              "      border-left-color: var(--fill-color);\n",
              "      border-top-color: var(--fill-color);\n",
              "      border-right-color: var(--fill-color);\n",
              "    }\n",
              "    40% {\n",
              "      border-color: transparent;\n",
              "      border-right-color: var(--fill-color);\n",
              "      border-top-color: var(--fill-color);\n",
              "    }\n",
              "    60% {\n",
              "      border-color: transparent;\n",
              "      border-right-color: var(--fill-color);\n",
              "    }\n",
              "    80% {\n",
              "      border-color: transparent;\n",
              "      border-right-color: var(--fill-color);\n",
              "      border-bottom-color: var(--fill-color);\n",
              "    }\n",
              "    90% {\n",
              "      border-color: transparent;\n",
              "      border-bottom-color: var(--fill-color);\n",
              "    }\n",
              "  }\n",
              "</style>\n",
              "\n",
              "  <script>\n",
              "    async function quickchart(key) {\n",
              "      const quickchartButtonEl =\n",
              "        document.querySelector('#' + key + ' button');\n",
              "      quickchartButtonEl.disabled = true;  // To prevent multiple clicks.\n",
              "      quickchartButtonEl.classList.add('colab-df-spinner');\n",
              "      try {\n",
              "        const charts = await google.colab.kernel.invokeFunction(\n",
              "            'suggestCharts', [key], {});\n",
              "      } catch (error) {\n",
              "        console.error('Error during call to suggestCharts:', error);\n",
              "      }\n",
              "      quickchartButtonEl.classList.remove('colab-df-spinner');\n",
              "      quickchartButtonEl.classList.add('colab-df-quickchart-complete');\n",
              "    }\n",
              "    (() => {\n",
              "      let quickchartButtonEl =\n",
              "        document.querySelector('#df-a56f1741-3a51-457a-a891-767c9b83bbf2 button');\n",
              "      quickchartButtonEl.style.display =\n",
              "        google.colab.kernel.accessAllowed ? 'block' : 'none';\n",
              "    })();\n",
              "  </script>\n",
              "</div>\n",
              "    </div>\n",
              "  </div>\n"
            ]
          },
          "metadata": {},
          "execution_count": 21
        }
      ]
    },
    {
      "cell_type": "code",
      "source": [
        "# Plotting\n",
        "bar_width = 0.2\n",
        "index = np.arange(len(pruned_thresholds))\n",
        "\n",
        "fig, ax = plt.subplots(figsize=(10, 6))\n",
        "rects1 = ax.bar(index - bar_width, clean_good_model_acc, bar_width, label='Clean Good Model')\n",
        "rects2 = ax.bar(index, clean_pruned_model_acc, bar_width, label='Clean Pruned Model')\n",
        "rects3 = ax.bar(index + bar_width, asr_good_model, bar_width, label='ASR Good Model')\n",
        "rects4 = ax.bar(index + 2 * bar_width, asr_pruned_model, bar_width, label='ASR Pruned Model')\n",
        "\n",
        "# Add values at the top of the bars\n",
        "def add_values(rects):\n",
        "    for rect in rects:\n",
        "        height = rect.get_height()\n",
        "        ax.annotate('{}'.format(round(height, 2)),\n",
        "                    xy=(rect.get_x() + rect.get_width() / 2, height),\n",
        "                    xytext=(0, 3),  # 3 points vertical offset\n",
        "                    textcoords=\"offset points\",\n",
        "                    ha='center', va='bottom')\n",
        "\n",
        "add_values(rects1)\n",
        "add_values(rects2)\n",
        "add_values(rects3)\n",
        "add_values(rects4)\n",
        "\n",
        "ax.set_xlabel('X Values')\n",
        "ax.set_ylabel('Accuracy')\n",
        "ax.set_title('Comparison plot with Values at the Top')\n",
        "ax.set_xticks(index)\n",
        "ax.set_xticklabels(pruned_thresholds)\n",
        "ax.legend(loc='lower center', bbox_to_anchor=(0.5, -0.25), ncol=4)\n",
        "# ax.legend()\n",
        "\n",
        "plt.show()"
      ],
      "metadata": {
        "id": "6khngziZXB5p",
        "colab": {
          "base_uri": "https://localhost:8080/",
          "height": 629
        },
        "outputId": "dd0dd259-31f1-49eb-ec45-0990528de764"
      },
      "execution_count": 29,
      "outputs": [
        {
          "output_type": "display_data",
          "data": {
            "text/plain": [
              "<Figure size 1000x600 with 1 Axes>"
            ],
            "image/png": "[encoded data removed]"
          },
          "metadata": {}
        }
      ]
    },
    {
      "cell_type": "markdown",
      "source": [
        "Thanks!"
      ],
      "metadata": {
        "id": "Du3OB3g9UDDw"
      }
    },
    {
      "cell_type": "code",
      "source": [],
      "metadata": {
        "id": "EhFIupj5RKmd"
      },
      "execution_count": null,
      "outputs": []
    }
  ]
}